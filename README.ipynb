{
 "cells": [
  {
   "attachments": {},
   "cell_type": "markdown",
   "metadata": {},
   "source": [
    "# mlpp-lib\n",
    "\n",
    "Collection of methods for ML-based postprocessing of weather forecasts.\n",
    "\n",
    ":warning: **The code in this repository is currently work-in-progress and not recommended for production use.** :warning:\n",
    "\n"
   ]
  },
  {
   "attachments": {},
   "cell_type": "markdown",
   "metadata": {},
   "source": [
    "# Quickstart"
   ]
  },
  {
   "cell_type": "code",
   "execution_count": 1,
   "metadata": {
    "metadata": {}
   },
   "outputs": [],
   "source": [
    "import numpy as np \n",
    "import xarray as xr \n",
    "import pandas as pd\n",
    "\n",
    "from mlpp_lib.datasets import DataModule, DataSplitter"
   ]
  },
  {
   "cell_type": "code",
   "execution_count": 2,
   "metadata": {
    "metadata": {}
   },
   "outputs": [],
   "source": [
    "LEADTIMES = np.arange(24)\n",
    "REFTIMES = pd.date_range(\"2018-01-01\", \"2018-03-31\", freq=\"24h\")\n",
    "STATIONS = [chr(i) * 3 for i in range(ord(\"A\"), ord(\"Z\"))]\n",
    "SHAPE = (len(REFTIMES), len(LEADTIMES), len(STATIONS))\n",
    "DIMS = [\"forecast_reference_time\", \"lead_time\", \"station\"]\n",
    "\n",
    "def features_dataset() -> xr.Dataset:\n",
    "    rng = np.random.default_rng(1)\n",
    "    X = rng.standard_normal(size=(*SHAPE, 4))\n",
    "    X[(X > 4.5) | (X < -4.5)] = np.nan\n",
    "\n",
    "    features = xr.Dataset(\n",
    "        {\n",
    "            \"coe:x1\": (DIMS, X[..., 0]),\n",
    "            \"coe:x2\": (DIMS, X[..., 1]),\n",
    "            \"obs:x3\": (DIMS, X[..., 2]),\n",
    "            \"dem:x4\": (DIMS, X[..., 3]),\n",
    "        },\n",
    "        coords={\n",
    "            \"forecast_reference_time\": REFTIMES,\n",
    "            \"lead_time\": LEADTIMES,\n",
    "            \"station\": STATIONS,\n",
    "        },\n",
    "    )\n",
    "\n",
    "    return features\n",
    "\n",
    "def targets_dataset() -> xr.Dataset:\n",
    "    \"\"\"\n",
    "    Create a dataset as if it was loaded from `targets.zarr`.\n",
    "    \"\"\"\n",
    "    rng = np.random.default_rng(1)\n",
    "    Y = rng.standard_normal(size=(*SHAPE, 2))\n",
    "    Y[(Y > 4.5) | (Y < -4.5)] = np.nan\n",
    "\n",
    "    targets = xr.Dataset(\n",
    "        {\"obs:y1\": (DIMS, Y[..., 0]), \"obs:y2\": (DIMS, Y[..., 1])},\n",
    "        coords={\n",
    "            \"forecast_reference_time\": REFTIMES,\n",
    "            \"lead_time\": LEADTIMES,\n",
    "            \"station\": STATIONS,\n",
    "        },\n",
    "    )\n",
    "\n",
    "    return targets\n",
    "\n"
   ]
  },
  {
   "attachments": {},
   "cell_type": "markdown",
   "metadata": {},
   "source": [
    "MLPP expects xarray objects that look like this:"
   ]
  },
  {
   "cell_type": "code",
   "execution_count": 3,
   "metadata": {
    "metadata": {}
   },
   "outputs": [
    {
     "name": "stdout",
     "output_type": "stream",
     "text": [
      "<xarray.Dataset> Size: 2MB\n",
      "Dimensions:                  (forecast_reference_time: 90, lead_time: 24,\n",
      "                              station: 25)\n",
      "Coordinates:\n",
      "  * forecast_reference_time  (forecast_reference_time) datetime64[ns] 720B 20...\n",
      "  * lead_time                (lead_time) int64 192B 0 1 2 3 4 ... 19 20 21 22 23\n",
      "  * station                  (station) <U3 300B 'AAA' 'BBB' ... 'XXX' 'YYY'\n",
      "Data variables:\n",
      "    coe:x1                   (forecast_reference_time, lead_time, station) float64 432kB ...\n",
      "    coe:x2                   (forecast_reference_time, lead_time, station) float64 432kB ...\n",
      "    obs:x3                   (forecast_reference_time, lead_time, station) float64 432kB ...\n",
      "    dem:x4                   (forecast_reference_time, lead_time, station) float64 432kB ...\n"
     ]
    }
   ],
   "source": [
    "features = features_dataset()\n",
    "print(features)\n"
   ]
  },
  {
   "cell_type": "code",
   "execution_count": 4,
   "metadata": {},
   "outputs": [
    {
     "name": "stdout",
     "output_type": "stream",
     "text": [
      "<xarray.Dataset> Size: 865kB\n",
      "Dimensions:                  (forecast_reference_time: 90, lead_time: 24,\n",
      "                              station: 25)\n",
      "Coordinates:\n",
      "  * forecast_reference_time  (forecast_reference_time) datetime64[ns] 720B 20...\n",
      "  * lead_time                (lead_time) int64 192B 0 1 2 3 4 ... 19 20 21 22 23\n",
      "  * station                  (station) <U3 300B 'AAA' 'BBB' ... 'XXX' 'YYY'\n",
      "Data variables:\n",
      "    obs:y1                   (forecast_reference_time, lead_time, station) float64 432kB ...\n",
      "    obs:y2                   (forecast_reference_time, lead_time, station) float64 432kB ...\n"
     ]
    }
   ],
   "source": [
    "targets = targets_dataset()\n",
    "print(targets)"
   ]
  },
  {
   "attachments": {},
   "cell_type": "markdown",
   "metadata": {},
   "source": [
    "## Preparing data\n",
    "\n",
    "The entire data processing can be handled by the `DataModule` class: \n",
    "- loading the raw data\n",
    "- train, val, test splits\n",
    "- normalization\n",
    "- reshaping to a tensor"
   ]
  },
  {
   "cell_type": "code",
   "execution_count": 5,
   "metadata": {
    "metadata": {}
   },
   "outputs": [
    {
     "name": "stderr",
     "output_type": "stream",
     "text": [
      "No normalizer found, data are standardized by default.\n"
     ]
    }
   ],
   "source": [
    "splitter = DataSplitter(\n",
    "    time_split={\"train\": 0.6, \"val\": 0.2, \"test\": 0.2},\n",
    "    station_split={\"train\": 0.7, \"val\": 0.1, \"test\": 0.2},\n",
    "    time_split_method=\"sequential\",\n",
    "    station_split_method=\"random\",\n",
    ")\n",
    "\n",
    "datamodule = DataModule(\n",
    "    features, targets[[\"obs:y1\"]],\n",
    "    batch_dims=[\"forecast_reference_time\", \"lead_time\", \"station\"],\n",
    "    splitter=splitter\n",
    ")\n",
    "\n",
    "datamodule.setup(stage=None)"
   ]
  },
  {
   "attachments": {},
   "cell_type": "markdown",
   "metadata": {},
   "source": [
    "## Training\n",
    "The library builds on top of PyTorch + Keras3 API and provides some useful methods to quickly build probabilistic models, while integrating probabilistic metrics thanks to `scoringrules`. Of course, you're free to use torch and torch distributions to build your own custom model. MLPP won't get in your way!\n",
    "\n",
    "In the following example the model consists of a fully connected layer and a probabilistic layer modelling a normal distribution parametrized by some predicted parameters, which can either be optimized via a closed form CRPS or a sample-based CRPS.\n",
    "\n",
    "For sample-based losses, the underlying distribution needs to have a reparametrized sampling function. If that was not available, `SampleLossWrapper` will let you know."
   ]
  },
  {
   "cell_type": "code",
   "execution_count": 6,
   "metadata": {
    "metadata": {}
   },
   "outputs": [
    {
     "name": "stdout",
     "output_type": "stream",
     "text": [
      "Epoch 1/2\n",
      "\u001b[1m689/689\u001b[0m \u001b[32m━━━━━━━━━━━━━━━━━━━━\u001b[0m\u001b[37m\u001b[0m \u001b[1m4s\u001b[0m 5ms/step - loss: 0.5668 - val_loss: 0.5629\n",
      "Epoch 2/2\n",
      "\u001b[1m689/689\u001b[0m \u001b[32m━━━━━━━━━━━━━━━━━━━━\u001b[0m\u001b[37m\u001b[0m \u001b[1m3s\u001b[0m 5ms/step - loss: 0.5659 - val_loss: 0.5601\n"
     ]
    }
   ],
   "source": [
    "from mlpp_lib.layers import FullyConnectedLayer\n",
    "from mlpp_lib.models import ProbabilisticModel\n",
    "from mlpp_lib.losses import DistributionLossWrapper, SampleLossWrapper\n",
    "from mlpp_lib.probabilistic_layers import BaseDistributionLayer, UniveriateGaussianModule\n",
    "import scoringrules as sr\n",
    "import keras\n",
    "\n",
    "\n",
    "encoder = FullyConnectedLayer(hidden_layers=[16,8], \n",
    "                                batchnorm=False, \n",
    "                                skip_connection=False,\n",
    "                                dropout=0.1,\n",
    "                                mc_dropout=False,\n",
    "                                activations='sigmoid')\n",
    "prob_layer = BaseDistributionLayer(distribution=UniveriateGaussianModule())\n",
    "\n",
    "model = ProbabilisticModel(encoder_layer=encoder, probabilistic_layer=prob_layer)\n",
    "\n",
    "# crps_normal = DistributionLossWrapper(fn=sr.crps_normal) # closed form CRPS\n",
    "crps_normal = SampleLossWrapper(fn=sr.crps_ensemble, num_samples=100) # sample-based CRPS \n",
    "\n",
    "model.compile(loss=crps_normal, optimizer=keras.optimizers.Adam(learning_rate=0.1))\n",
    "\n",
    "history = model.fit(\n",
    "    datamodule.train.x, datamodule.train.y,\n",
    "    epochs = 2,\n",
    "    batch_size = 32,\n",
    "    validation_data = (datamodule.val.x, datamodule.val.y)\n",
    ")"
   ]
  },
  {
   "attachments": {},
   "cell_type": "markdown",
   "metadata": {},
   "source": [
    "## Predictions\n",
    "Once your model is trained, you can make predictions and create ensembles by sampling from the predictive distribution. The `Dataset` class comes with a method to wrap your ensemble predictions in a xarray object with the correct dimensions and coordinates."
   ]
  },
  {
   "cell_type": "code",
   "execution_count": 7,
   "metadata": {
    "metadata": {}
   },
   "outputs": [
    {
     "name": "stdout",
     "output_type": "stream",
     "text": [
      "<xarray.Dataset> Size: 363kB\n",
      "Dimensions:                  (realization: 21, forecast_reference_time: 18,\n",
      "                              lead_time: 24, station: 5)\n",
      "Coordinates:\n",
      "  * forecast_reference_time  (forecast_reference_time) datetime64[ns] 144B 20...\n",
      "  * lead_time                (lead_time) int64 192B 0 1 2 3 4 ... 19 20 21 22 23\n",
      "  * station                  (station) <U3 60B 'AAA' 'III' 'NNN' 'VVV' 'YYY'\n",
      "  * realization              (realization) int64 168B 0 1 2 3 4 ... 17 18 19 20\n",
      "Data variables:\n",
      "    obs:y1                   (realization, forecast_reference_time, lead_time, station) float64 363kB ...\n"
     ]
    }
   ],
   "source": [
    "test_pred_ensemble = model(datamodule.test.x).sample(21)\n",
    "test_pred_ensemble = datamodule.test.dataset_from_predictions(test_pred_ensemble, ensemble_axis=0)\n",
    "print(test_pred_ensemble)"
   ]
  },
  {
   "cell_type": "markdown",
   "metadata": {},
   "source": [
    "## Build the README\n",
    "\n",
    "```\n",
    "poetry run jupyter nbconvert --execute --to markdown README.ipynb\n",
    "```"
   ]
  }
 ],
 "metadata": {
  "kernelspec": {
   "display_name": "mlpp",
   "language": "python",
   "name": "python3"
  },
  "language_info": {
   "codemirror_mode": {
    "name": "ipython",
    "version": 3
   },
   "file_extension": ".py",
   "mimetype": "text/x-python",
   "name": "python",
   "nbconvert_exporter": "python",
   "pygments_lexer": "ipython3",
   "version": "3.10.15"
  },
  "orig_nbformat": 4
 },
 "nbformat": 4,
 "nbformat_minor": 2
}
