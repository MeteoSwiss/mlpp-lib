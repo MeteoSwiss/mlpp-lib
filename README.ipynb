{
 "cells": [
  {
   "attachments": {},
   "cell_type": "markdown",
   "metadata": {},
   "source": [
    "# mlpp-lib\n",
    "\n",
    "Collection of methods for ML-based postprocessing of weather forecasts.\n",
    "\n",
    ":warning: **The code in this repository is currently work-in-progress and not recommended for production use.** :warning:\n",
    "\n"
   ]
  },
  {
   "attachments": {},
   "cell_type": "markdown",
   "metadata": {},
   "source": [
    "# Quickstart"
   ]
  },
  {
   "cell_type": "code",
   "execution_count": 1,
   "metadata": {},
   "outputs": [
    {
     "name": "stderr",
     "output_type": "stream",
     "text": [
      "2023-04-05 10:37:35.075697: I tensorflow/tsl/cuda/cudart_stub.cc:28] Could not find cuda drivers on your machine, GPU will not be used.\n",
      "2023-04-05 10:37:37.941790: E tensorflow/tsl/lib/monitoring/collection_registry.cc:81] Cannot register 2 metrics with the same name: /tensorflow/core/bfc_allocator_delay\n",
      "2023-04-05 10:37:38.211503: I tensorflow/tsl/cuda/cudart_stub.cc:28] Could not find cuda drivers on your machine, GPU will not be used.\n",
      "2023-04-05 10:37:38.212796: I tensorflow/core/platform/cpu_feature_guard.cc:182] This TensorFlow binary is optimized to use available CPU instructions in performance-critical operations.\n",
      "To enable the following instructions: AVX2 AVX512F FMA, in other operations, rebuild TensorFlow with the appropriate compiler flags.\n",
      "2023-04-05 10:37:50.680410: W tensorflow/compiler/tf2tensorrt/utils/py_utils.cc:38] TF-TRT Warning: Could not find TensorRT\n"
     ]
    }
   ],
   "source": [
    "import numpy as np \n",
    "import xarray as xr \n",
    "import pandas as pd\n",
    "\n",
    "from mlpp_lib.datasets import DataModule, DataSplitter"
   ]
  },
  {
   "cell_type": "code",
   "execution_count": 2,
   "metadata": {},
   "outputs": [],
   "source": [
    "LEADTIMES = np.arange(24)\n",
    "REFTIMES = pd.date_range(\"2018-01-01\", \"2018-03-31\", freq=\"24H\")\n",
    "STATIONS = [chr(i) * 3 for i in range(ord(\"A\"), ord(\"Z\"))]\n",
    "SHAPE = (len(REFTIMES), len(LEADTIMES), len(STATIONS))\n",
    "DIMS = [\"forecast_reference_time\", \"t\", \"station\"]\n",
    "\n",
    "def features_dataset() -> xr.Dataset:\n",
    "    rng = np.random.default_rng(1)\n",
    "    X = rng.standard_normal(size=(*SHAPE, 4))\n",
    "    X[(X > 4.5) | (X < -4.5)] = np.nan\n",
    "\n",
    "    features = xr.Dataset(\n",
    "        {\n",
    "            \"coe:x1\": (DIMS, X[..., 0]),\n",
    "            \"coe:x2\": (DIMS, X[..., 1]),\n",
    "            \"obs:x3\": (DIMS, X[..., 2]),\n",
    "            \"dem:x4\": (DIMS, X[..., 3]),\n",
    "        },\n",
    "        coords={\n",
    "            \"forecast_reference_time\": REFTIMES,\n",
    "            \"t\": LEADTIMES,\n",
    "            \"station\": STATIONS,\n",
    "        },\n",
    "    )\n",
    "\n",
    "    return features\n",
    "\n",
    "def targets_dataset() -> xr.Dataset:\n",
    "    \"\"\"\n",
    "    Create a dataset as if it was loaded from `targets.zarr`.\n",
    "    \"\"\"\n",
    "    rng = np.random.default_rng(1)\n",
    "    Y = rng.standard_normal(size=(*SHAPE, 2))\n",
    "    Y[(Y > 4.5) | (Y < -4.5)] = np.nan\n",
    "\n",
    "    targets = xr.Dataset(\n",
    "        {\"obs:y1\": (DIMS, Y[..., 0]), \"obs:y2\": (DIMS, Y[..., 1])},\n",
    "        coords={\n",
    "            \"forecast_reference_time\": REFTIMES,\n",
    "            \"t\": LEADTIMES,\n",
    "            \"station\": STATIONS,\n",
    "        },\n",
    "    )\n",
    "\n",
    "    return targets\n",
    "\n"
   ]
  },
  {
   "attachments": {},
   "cell_type": "markdown",
   "metadata": {},
   "source": [
    "MLPP expects xarray objects that look like this:"
   ]
  },
  {
   "cell_type": "code",
   "execution_count": 4,
   "metadata": {},
   "outputs": [
    {
     "name": "stdout",
     "output_type": "stream",
     "text": [
      "<xarray.Dataset>\n",
      "Dimensions:                  (forecast_reference_time: 90, t: 24, station: 25)\n",
      "Coordinates:\n",
      "  * forecast_reference_time  (forecast_reference_time) datetime64[ns] 2018-01...\n",
      "  * t                        (t) int64 0 1 2 3 4 5 6 7 ... 17 18 19 20 21 22 23\n",
      "  * station                  (station) <U3 'AAA' 'BBB' 'CCC' ... 'XXX' 'YYY'\n",
      "Data variables:\n",
      "    coe:x1                   (forecast_reference_time, t, station) float64 0....\n",
      "    coe:x2                   (forecast_reference_time, t, station) float64 0....\n",
      "    obs:x3                   (forecast_reference_time, t, station) float64 0....\n",
      "    dem:x4                   (forecast_reference_time, t, station) float64 -1...\n"
     ]
    }
   ],
   "source": [
    "features = features_dataset()\n",
    "print(features)\n"
   ]
  },
  {
   "cell_type": "code",
   "execution_count": 5,
   "metadata": {},
   "outputs": [
    {
     "name": "stdout",
     "output_type": "stream",
     "text": [
      "<xarray.Dataset>\n",
      "Dimensions:                  (forecast_reference_time: 90, t: 24, station: 25)\n",
      "Coordinates:\n",
      "  * forecast_reference_time  (forecast_reference_time) datetime64[ns] 2018-01...\n",
      "  * t                        (t) int64 0 1 2 3 4 5 6 7 ... 17 18 19 20 21 22 23\n",
      "  * station                  (station) <U3 'AAA' 'BBB' 'CCC' ... 'XXX' 'YYY'\n",
      "Data variables:\n",
      "    obs:y1                   (forecast_reference_time, t, station) float64 0....\n",
      "    obs:y2                   (forecast_reference_time, t, station) float64 0....\n"
     ]
    }
   ],
   "source": [
    "targets = targets_dataset()\n",
    "print(targets)"
   ]
  },
  {
   "attachments": {},
   "cell_type": "markdown",
   "metadata": {},
   "source": [
    "## Preparing data\n",
    "\n",
    "The entire data processing can be handled by the `DataModule` class: \n",
    "- loading the raw data\n",
    "- train, val, test splits\n",
    "- normalization\n",
    "- reshaping to a tensor"
   ]
  },
  {
   "cell_type": "code",
   "execution_count": 12,
   "metadata": {},
   "outputs": [],
   "source": [
    "splitter = DataSplitter(\n",
    "    time_split={\"train\": 0.6, \"val\": 0.2, \"test\": 0.2},\n",
    "    station_split={\"train\": 0.7, \"val\": 0.1, \"test\": 0.2},\n",
    "    time_split_method=\"sequential\",\n",
    "    station_split_method=\"random\",\n",
    ")\n",
    "\n",
    "datamodule = DataModule(\n",
    "    features, targets[[\"obs:y1\"]],\n",
    "    batch_dims=[\"forecast_reference_time\",\"t\",\"station\"],\n",
    "    splitter=splitter\n",
    ")\n",
    "\n",
    "datamodule.setup(stage=None)"
   ]
  },
  {
   "attachments": {},
   "cell_type": "markdown",
   "metadata": {},
   "source": [
    "## Training\n",
    "The library builds on top of the tensorflow + keras API and provides some useful methods to quickly build probabilistic models, as well as a collection of probabilistic metrics. Of course, you're free to use tensorflow and tensorflow probability to build your own custom model. MLPP won't get in your way!"
   ]
  },
  {
   "cell_type": "code",
   "execution_count": 13,
   "metadata": {},
   "outputs": [
    {
     "name": "stdout",
     "output_type": "stream",
     "text": [
      "Epoch 1/2\n",
      "689/689 [==============================] - 2s 2ms/step - loss: 0.5624 - val_loss: 0.5698\n",
      "Epoch 2/2\n",
      "689/689 [==============================] - 1s 2ms/step - loss: 0.5603 - val_loss: 0.5719\n"
     ]
    }
   ],
   "source": [
    "from mlpp_lib.models import fully_connected_network\n",
    "from mlpp_lib.losses import crps_energy\n",
    "import tensorflow as tf \n",
    "\n",
    "model: tf.keras.Model = fully_connected_network(\n",
    "    input_shape = datamodule.train.x.shape[1:],\n",
    "    output_size = datamodule.train.y.shape[-1],\n",
    "    hidden_layers = [32, 32],\n",
    "    activations = \"relu\",\n",
    "    probabilistic_layer = \"IndependentNormal\"\n",
    ")\n",
    "\n",
    "model.compile(loss=crps_energy, optimizer=\"adam\")\n",
    "\n",
    "history = model.fit(\n",
    "    datamodule.train.x, datamodule.train.y,\n",
    "    epochs = 2,\n",
    "    batch_size = 32,\n",
    "    validation_data = (datamodule.val.x, datamodule.val.y)\n",
    ")"
   ]
  },
  {
   "attachments": {},
   "cell_type": "markdown",
   "metadata": {},
   "source": [
    "## Predictions\n",
    "Once your model is trained, you can make predictions and create ensembles by sampling from the predictive distribution. The `Dataset` class comes with a method to wrap your ensemble predictions in a xarray object with the correct dimensions and coordinates."
   ]
  },
  {
   "cell_type": "code",
   "execution_count": 18,
   "metadata": {},
   "outputs": [
    {
     "name": "stdout",
     "output_type": "stream",
     "text": [
      "<xarray.Dataset>\n",
      "Dimensions:                  (realization: 21, forecast_reference_time: 18,\n",
      "                              t: 24, station: 5)\n",
      "Coordinates:\n",
      "  * forecast_reference_time  (forecast_reference_time) datetime64[ns] 2018-03...\n",
      "  * t                        (t) int64 0 1 2 3 4 5 6 7 ... 17 18 19 20 21 22 23\n",
      "  * station                  (station) <U3 'AAA' 'EEE' 'JJJ' 'PPP' 'RRR'\n",
      "  * realization              (realization) int64 0 1 2 3 4 5 ... 16 17 18 19 20\n",
      "Data variables:\n",
      "    obs:y1                   (realization, forecast_reference_time, t, station) float64 ...\n"
     ]
    }
   ],
   "source": [
    "test_pred_ensemble = model(datamodule.test.x).sample(21)\n",
    "test_pred_ensemble = datamodule.test.dataset_from_predictions(test_pred_ensemble, ensemble_axis=0)\n",
    "print(test_pred_ensemble)"
   ]
  }
 ],
 "metadata": {
  "kernelspec": {
   "display_name": "mlpp",
   "language": "python",
   "name": "python3"
  },
  "language_info": {
   "codemirror_mode": {
    "name": "ipython",
    "version": 3
   },
   "file_extension": ".py",
   "mimetype": "text/x-python",
   "name": "python",
   "nbconvert_exporter": "python",
   "pygments_lexer": "ipython3",
   "version": "3.10.8"
  },
  "orig_nbformat": 4
 },
 "nbformat": 4,
 "nbformat_minor": 2
}
